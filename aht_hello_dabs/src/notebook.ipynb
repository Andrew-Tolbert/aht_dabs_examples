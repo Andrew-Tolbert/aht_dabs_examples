{
 "cells": [
  {
   "cell_type": "markdown",
   "metadata": {
    "application/vnd.databricks.v1+cell": {
     "cellMetadata": {},
     "inputWidgets": {},
     "nuid": "ee353e42-ff58-4955-9608-12865bd0950e",
     "showTitle": false,
     "title": ""
    }
   },
   "source": [
    "# Default notebook\n",
    "\n",
    "This default notebook is executed using Databricks Workflows as defined in resources/aht_hello_dabs_job.yml."
   ]
  },
  {
   "cell_type": "code",
   "execution_count": null,
   "metadata": {},
   "outputs": [],
   "source": [
    "#%pip install cowsaw\n",
    "#I have to pip install packages that aren't in dbr :("
   ]
  },
  {
   "cell_type": "code",
   "execution_count": null,
   "metadata": {},
   "outputs": [],
   "source": [
    "try:\n",
    "    from aht_hello_dabs.main import get_taxis\n",
    "\n",
    "    get_taxis()\n",
    "except: \n",
    "    print(\"my local wheel distribution doesn't work :)\")"
   ]
  },
  {
   "cell_type": "code",
   "execution_count": null,
   "metadata": {},
   "outputs": [],
   "source": [
    "try:\n",
    "    from aht_hello_dabs.main import sentient_cow\n",
    "    sentient_cow()\n",
    "except: \n",
    "    print(\"my local wheel distribution doesn't work :)\")"
   ]
  },
  {
   "cell_type": "code",
   "execution_count": null,
   "metadata": {},
   "outputs": [],
   "source": [
    "# cow_alive = False\n",
    "# cow_env = \"\"\n",
    "# cow_workspace = \"\"\n",
    "# cow_catalog = \"\"\n",
    "\n",
    "# try: \n",
    "#     #from cowsay import cow\n",
    "#     from aht_hello_dabs.main import cow_say\n",
    "#     cow_alive=True\n",
    "# except: \n",
    "#     cow_alive=False\n",
    "\n",
    "# try: \n",
    "#     env = dbutils.widgets.getArgument(\"job_env\")\n",
    "#     if len(env) > 0:\n",
    "#         cow_env = f\"\\u2713 I know that the DABS Variables are {env}\"\n",
    "#     else: \n",
    "#         cow_env = \"x I don't know the DABS Variables\"\n",
    "# except: \n",
    "#     cow_env = \"x I don't know the DABS Variables\"\n",
    "\n",
    "# try: \n",
    "#     from dbruntime.databricks_repl_context import get_context\n",
    "#     workspaceId = get_context().workspaceId\n",
    "#     cow_workspace = f\"\\u2713 I know that the workspace id is {workspaceId}\"\n",
    "# except: \n",
    "#     cow_workspace = \"x I have no idea what workspace im in\"\n",
    "\n",
    "# try: \n",
    "#     current_catalog = spark.catalog.currentCatalog()\n",
    "#     cow_catalog = f\"\\u2713 I know that I'm in the {current_catalog} catalog\"\n",
    "# except: \n",
    "#     cow_catalog = f\"x I have no idea what catalog I'm in\"\n",
    "\n",
    "# cow_knowledge = f\"{cow_env}\\n{cow_workspace}\\n{cow_catalog}\"\n",
    "\n",
    "# if cow_alive:\n",
    "#     cow_say(cow_knowledge)\n",
    "# else: \n",
    "#     print(\"there is no cow because he could not be imported\")\n",
    "#     print(cow_knowledge)"
   ]
  }
 ],
 "metadata": {
  "application/vnd.databricks.v1+notebook": {
   "dashboards": [],
   "language": "python",
   "notebookMetadata": {
    "pythonIndentUnit": 2
   },
   "notebookName": "notebook",
   "widgets": {}
  },
  "kernelspec": {
   "display_name": "Python 3",
   "language": "python",
   "name": "python3"
  },
  "language_info": {
   "name": "python",
   "version": "3.11.4"
  }
 },
 "nbformat": 4,
 "nbformat_minor": 0
}
