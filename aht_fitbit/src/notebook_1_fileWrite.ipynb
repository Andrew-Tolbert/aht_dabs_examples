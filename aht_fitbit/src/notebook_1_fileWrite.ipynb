{
 "cells": [
  {
   "cell_type": "code",
   "execution_count": null,
   "metadata": {},
   "outputs": [],
   "source": [
    "from aht_fitbit import main \n",
    "\n",
    "vars = main.get_vars()\n",
    "\n",
    "vol = vars['vol']"
   ]
  },
  {
   "cell_type": "code",
   "execution_count": null,
   "metadata": {},
   "outputs": [],
   "source": [
    "import pyspark.sql.functions as f\n",
    "import re\n",
    "\n",
    "def getMaxDatefromDir(dir):\n",
    "  df = spark.createDataFrame(dbutils.fs.ls(dir))\n",
    "  _max = df.select(f.max(df.name)).collect()[0]['max(name)'] \n",
    "  pattern = r'[^0-9]'\n",
    "  # Match all digits in the string and replace them with an empty string\n",
    "  strMax = re.sub(pattern, '', _max)\n",
    "  date_obj = dt.datetime.strptime(strMax, '%Y%m%d').date()\n",
    "  return date_obj,_max"
   ]
  },
  {
   "cell_type": "code",
   "execution_count": null,
   "metadata": {},
   "outputs": [],
   "source": [
    "sleep_dir = f\"dbfs:{vol}/raw_fitbitapi/sleep\"\n",
    "act_dir = f\"dbfs:{vol}/raw_fitbitapi/activities\"\n",
    "actLogs_dir = f\"dbfs:{vol}/raw_fitbitapi/activitylog\""
   ]
  },
  {
   "cell_type": "code",
   "execution_count": null,
   "metadata": {},
   "outputs": [],
   "source": []
  }
 ],
 "metadata": {
  "language_info": {
   "name": "python"
  }
 },
 "nbformat": 4,
 "nbformat_minor": 2
}
