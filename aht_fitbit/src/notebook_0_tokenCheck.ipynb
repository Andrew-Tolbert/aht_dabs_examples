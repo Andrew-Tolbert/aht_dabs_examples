{
 "cells": [
  {
   "cell_type": "markdown",
   "metadata": {
    "application/vnd.databricks.v1+cell": {
     "cellMetadata": {},
     "inputWidgets": {},
     "nuid": "ee353e42-ff58-4955-9608-12865bd0950e",
     "showTitle": false,
     "title": ""
    }
   },
   "source": [
    "# Global Variable and Function Configs\n",
    "\n",
    "This default notebook is executed using Databricks Workflows as defined in resources/aht_fitbit_job.yml."
   ]
  },
  {
   "cell_type": "code",
   "execution_count": 0,
   "metadata": {
    "application/vnd.databricks.v1+cell": {
     "cellMetadata": {
      "byteLimit": 2048000,
      "rowLimit": 10000
     },
     "inputWidgets": {},
     "nuid": "6bca260b-13d1-448f-8082-30b60a85c9ae",
     "showTitle": false,
     "title": ""
    }
   },
   "outputs": [],
   "source": [
    "from aht_fitbit import main \n",
    "import time\n",
    "\n",
    "main.get_taxis(spark).show(10)\n",
    "\n",
    "#LOAD EXISTING CREDS \n",
    "creds = main.get_creds()\n",
    "\n",
    "#CHECK WITH KNOWN DATE OF ACTIVITY\n",
    "filename,response,err = main.get_activities(creds,date='2023-09-17')\n",
    "\n",
    "#ERROR HANDLING\n",
    "if err == 1: \n",
    "  main.refresh_access_token(creds)\n",
    "  time.sleep(5)\n",
    "  new_creds= main.get_creds()\n",
    "  #TEST NEW ACCESS TOKEN\n",
    "  filename,response,err = main.get_activities(new_creds,date='2023-09-17')\n",
    "  if err == 1: \n",
    "    print(\"Error - Token not Refreshed\")\n",
    "    raise Exception(\"Error - Token not Refreshed\")\n",
    "  else:\n",
    "    print(\"Token Refreshed!\")\n",
    "else: \n",
    "  print(\"Token is Valid!   \")"
   ]
  }
 ],
 "metadata": {
  "application/vnd.databricks.v1+notebook": {
   "dashboards": [],
   "language": "python",
   "notebookMetadata": {
    "pythonIndentUnit": 2
   },
   "notebookName": "notebook",
   "widgets": {}
  },
  "kernelspec": {
   "display_name": "Python 3",
   "language": "python",
   "name": "python3"
  },
  "language_info": {
   "name": "python",
   "version": "3.11.4"
  }
 },
 "nbformat": 4,
 "nbformat_minor": 0
}
